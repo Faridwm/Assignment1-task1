{
 "cells": [
  {
   "cell_type": "markdown",
   "metadata": {},
   "source": [
    "### Farid Wujdi Mubarok\n",
    "### 1313617006\n",
    "### Sistem Pakar Semester 112\n",
    "### Assigment 1\n",
    "### Task 1: 2D Transformation"
   ]
  },
  {
   "cell_type": "markdown",
   "metadata": {},
   "source": [
    "# Translasi"
   ]
  },
  {
   "cell_type": "markdown",
   "metadata": {},
   "source": [
    "Tranlasi adalah pergeseran suatu objek, baik itu titik, garis, maupun bidang dengan jarak dan arah tertentu. Translasi ditanyakan dengan vector $(tx, ty)$, dimana $tx$ merupakan pergesaran pada sumbu x, sedangkan $ty$ merupakan pegeseran pada sumbu y.\n",
    "Jika sebuah titik $A = (x, y)$ di transalsikan oleh $(tx, ty)$, maka akan diperoleh koordinat titik baru $A' = (x' + y')$ dengan $x' = x + tx$ dan $y' = y + ty$."
   ]
  },
  {
   "cell_type": "markdown",
   "metadata": {},
   "source": [
    "Didalam buku Computer Vision: Algorithms and Applications notasi tranlasi ditulis dengan \n",
    "$$x' = \n",
    "\\begin{bmatrix} \n",
    "I & t \n",
    "\\end{bmatrix} \n",
    "\\overline{x}$$ \n",
    "\n",
    "Dengan $I$ merupakan matriks identitas (2 x 2). Karena kita menggunakan *homogeneous coordinates* maka koordinat titik $A$ dinyatakan dengan $A = (x, y, 1)$. Maka notasinya menjadi \n",
    "\n",
    "$$x' = \n",
    "\\begin{bmatrix} \n",
    "I & t \\\\\n",
    "0^{T} & 1\n",
    "\\end{bmatrix} \\overline{x}$$\n",
    "\n",
    "Dengan notasi matriks diatas, didapat matriks pengali translasi pada *homogeneous coordinates* sebagai berikut\n",
    "\n",
    "$$\n",
    "\\begin{bmatrix} \n",
    "x' \\\\\n",
    "y' \\\\\n",
    "1\n",
    "\\end{bmatrix} = \n",
    "\\begin{bmatrix} \n",
    "1 & 0 & tx \\\\\n",
    "0 & 1 & ty \\\\\n",
    "0 & 0 & 1\n",
    "\\end{bmatrix}\n",
    "\\begin{bmatrix} \n",
    "x \\\\\n",
    "y \\\\\n",
    "1\n",
    "\\end{bmatrix}\n",
    "$$\n",
    "\n",
    "Atau dapat di tulis $$\n",
    "A' = \n",
    "\\begin{bmatrix} \n",
    "1 & 0 & tx \\\\\n",
    "0 & 1 & ty \\\\\n",
    "0 & 0 & 1\n",
    "\\end{bmatrix} A$$"
   ]
  },
  {
   "cell_type": "markdown",
   "metadata": {},
   "source": [
    "# Rotasi"
   ]
  },
  {
   "cell_type": "code",
   "execution_count": null,
   "metadata": {},
   "outputs": [],
   "source": []
  }
 ],
 "metadata": {
  "kernelspec": {
   "display_name": "Python 3",
   "language": "python",
   "name": "python3"
  },
  "language_info": {
   "codemirror_mode": {
    "name": "ipython",
    "version": 3
   },
   "file_extension": ".py",
   "mimetype": "text/x-python",
   "name": "python",
   "nbconvert_exporter": "python",
   "pygments_lexer": "ipython3",
   "version": "3.6.9"
  }
 },
 "nbformat": 4,
 "nbformat_minor": 2
}
